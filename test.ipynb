{
 "cells": [
  {
   "cell_type": "code",
   "execution_count": 2,
   "metadata": {
    "collapsed": false
   },
   "outputs": [
    {
     "name": "stdout",
     "output_type": "stream",
     "text": [
      "Введите общее количество вопросов: \n",
      "7\n",
      "Введите количество вопросов в задании: \n",
      "3\n",
      "Баньщикова  отвечает на вопросы под номерами 2, 5 и 3\n",
      "Батухтин    отвечает на вопросы под номерами 4, 2 и 6\n",
      "Блинкова    отвечает на вопросы под номерами 7, 1 и 2\n",
      "Галушина    отвечает на вопросы под номерами 1, 3 и 4\n",
      "Каширин     отвечает на вопросы под номерами 2, 3 и 5\n",
      "Королев     отвечает на вопросы под номерами 4, 7 и 2\n",
      "Кузьминых   отвечает на вопросы под номерами 3, 6 и 7\n",
      "Майнагашева отвечает на вопросы под номерами 5, 3 и 2\n",
      "Сюсина      отвечает на вопросы под номерами 6, 7 и 1\n",
      "Терехин     отвечает на вопросы под номерами 2, 7 и 1\n"
     ]
    }
   ],
   "source": [
    "import random\n",
    "\n",
    "\n",
    "class Student:\n",
    "    def __init__(self, name):\n",
    "        self.name = name\n",
    "        self.quest = None\n",
    "        self.seed = 0\n",
    "        for char in self.name:\n",
    "            self.seed += ord(char)\n",
    "\n",
    "        self.seed /= len(self.name)\n",
    "\n",
    "    def get_seed(self):\n",
    "        return self.seed\n",
    "\n",
    "    def get_name(self):\n",
    "        return self.name\n",
    "\n",
    "    def set_quest(self, size, number):\n",
    "        tail = random.randint(2, 100)\n",
    "        random.seed(self.seed)\n",
    "        for count in range(1, tail):\n",
    "            random.sample(range(1, size + 1), number)\n",
    "        self.quest = random.sample(range(1, size + 1), number)\n",
    "        random.seed()\n",
    "\n",
    "    def get_quest(self, size=None, number=None):\n",
    "        if self.quest is None:\n",
    "            self.set_quest(size, number)\n",
    "\n",
    "        string = ''\n",
    "        for elem in self.quest[:-1]:\n",
    "            string += str(elem) + ', '\n",
    "\n",
    "        string = string[:-2] + ' и ' + str(self.quest[-1])\n",
    "\n",
    "        print('%-11s отвечает на вопросы под номерами %s' % (self.name, string))\n",
    "\n",
    "\n",
    "names = ['Баньщикова', 'Батухтин', 'Блинкова', 'Галушина', 'Каширин',\n",
    "         'Королев', 'Кузьминых', 'Майнагашева', 'Сюсина', 'Терехин']\n",
    "\n",
    "students = []\n",
    "for obj in names:\n",
    "    students.append(Student(obj))\n",
    "\n",
    "print('Введите общее количество вопросов: ')\n",
    "Size = int(input())\n",
    "print('Введите количество вопросов в задании: ')\n",
    "Num = int(input())\n",
    "for obj in students:\n",
    "    obj.get_quest(Size, Num)\n"
   ]
  },
  {
   "cell_type": "code",
   "execution_count": null,
   "metadata": {
    "collapsed": true
   },
   "outputs": [],
   "source": []
  }
 ],
 "metadata": {
  "anaconda-cloud": {},
  "kernelspec": {
   "display_name": "Python [conda root]",
   "language": "python",
   "name": "conda-root-py"
  },
  "language_info": {
   "codemirror_mode": {
    "name": "ipython",
    "version": 3
   },
   "file_extension": ".py",
   "mimetype": "text/x-python",
   "name": "python",
   "nbconvert_exporter": "python",
   "pygments_lexer": "ipython3",
   "version": "3.5.2"
  }
 },
 "nbformat": 4,
 "nbformat_minor": 1
}
