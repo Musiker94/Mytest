{
 "cells": [
  {
   "cell_type": "code",
   "execution_count": null,
   "metadata": {
    "collapsed": true
   },
   "outputs": [],
   "source": [
    "import random\n",
    "\n",
    "\n",
    "class Student:\n",
    "    def __init__(self, name):\n",
    "        self.name = name\n",
    "        self.quest = None\n",
    "        self.seed = 0\n",
    "        for char in self.name:\n",
    "            self.seed += ord(char)\n",
    "\n",
    "        self.seed /= len(self.name)\n",
    "\n",
    "    def get_seed(self):\n",
    "        return self.seed\n",
    "\n",
    "    def get_name(self):\n",
    "        return self.name\n",
    "\n",
    "    def set_quest(self, size, number):\n",
    "        tail = random.randint(2, 100)\n",
    "        random.seed(self.seed)\n",
    "        for count in range(1, tail):\n",
    "            random.sample(range(1, size + 1), number)\n",
    "        self.quest = random.sample(range(1, size + 1), number)\n",
    "        random.seed()\n",
    "\n",
    "    def get_quest(self, size=None, number=None):\n",
    "        if self.quest is None:\n",
    "            self.set_quest(size, number)\n",
    "\n",
    "        string = ''\n",
    "        for elem in self.quest:\n",
    "            string += str(elem) + ', '\n",
    "\n",
    "        string += 'и ' + str(self.quest[-1])\n",
    "\n",
    "        print('%-11s отвечает на вопросы под номерами %s' % (self.name, string))\n",
    "\n",
    "\n",
    "names = ['Баньщикова', 'Батухтин', 'Блинкова', 'Галушина', 'Каширин',\n",
    "         'Королев', 'Кузьминых', 'Майнагашева', 'Сюсина', 'Терехин']\n",
    "\n",
    "students = []\n",
    "for obj in names:\n",
    "    students.append(Student(obj))\n",
    "\n",
    "print('Введите общее количество вопросов: ')\n",
    "Size = int(input())\n",
    "print('Введите количество вопросов в задании: ')\n",
    "Num = int(input())\n",
    "for obj in students:\n",
    "    obj.get_quest(Size, Num)"
   ]
  },
  {
   "cell_type": "code",
   "execution_count": null,
   "metadata": {},
   "outputs": [],
   "source": [
    ""
   ]
  }
 ],
 "metadata": {
  "kernelspec": {
   "display_name": "Python 2",
   "language": "python",
   "name": "python2"
  },
  "language_info": {
   "codemirror_mode": {
    "name": "ipython",
    "version": 2.0
   },
   "file_extension": ".py",
   "mimetype": "text/x-python",
   "name": "python",
   "nbconvert_exporter": "python",
   "pygments_lexer": "ipython2",
   "version": "2.7.6"
  }
 },
 "nbformat": 4,
 "nbformat_minor": 0
}